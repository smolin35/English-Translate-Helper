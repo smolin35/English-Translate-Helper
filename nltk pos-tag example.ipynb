{
 "cells": [
  {
   "cell_type": "code",
   "execution_count": 6,
   "metadata": {},
   "outputs": [],
   "source": [
    "text = 'In our everyday lives, artificial neural networks are already extensively \\\n",
    "used, for example, for carrying out tasks such as face and speech recog- \\\n",
    "nition, which are frequently performed on our mobile phones1. In more \\\n",
    "complex applications, such as medical diagnostics2 and autonomous \\\n",
    "driving1,3, high-speed data analysis will become ever more important. \\\n",
    "However, fulfilling this demand for fast and efficient processing using \\\n",
    "traditional computation techniques is problematic, owing to speed and \\\n",
    "energy inefficiencies4. Traditional computers are built following the \\\n",
    "von Neumann architecture, with two separate units for memory and \\\n",
    "processor operating in a sequential way, one command at a time. When \\\n",
    "compared to the massively parallel signal processing of the brain, it \\\n",
    "is clear why simulating a neural network in software on a machine \\\n",
    "based on the von Neumann architecture and limited by the transfer of \\\n",
    "data between memory and processor cannot be efficient5.'"
   ]
  },
  {
   "cell_type": "code",
   "execution_count": 7,
   "metadata": {},
   "outputs": [
    {
     "name": "stdout",
     "output_type": "stream",
     "text": [
      "['$', \"''\", '(', ')', ',', '--', '.', ':', 'CC', 'CD', 'DT', 'EX', 'FW', 'IN', 'JJ', 'JJR', 'JJS', 'LS', 'MD', 'NN', 'NNP', 'NNPS', 'NNS', 'PDT', 'POS', 'PRP', 'PRP$', 'RB', 'RBR', 'RBS', 'RP', 'SYM', 'TO', 'UH', 'VB', 'VBD', 'VBG', 'VBN', 'VBP', 'VBZ', 'WDT', 'WP', 'WP$', 'WRB', '``']\n",
      "\n",
      "r_all==r_by_word = False\n",
      "\n",
      "[('In', 'IN'), ('our', 'PRP$'), ('everyday', 'JJ'), ('lives', 'NNS'), (',', ','), ('artificial', 'JJ'), ('neural', 'JJ'), ('networks', 'NNS'), ('are', 'VBP'), ('already', 'RB'), ('extensively', 'RB'), ('used', 'VBN'), (',', ','), ('for', 'IN'), ('example', 'NN'), (',', ','), ('for', 'IN'), ('carrying', 'VBG'), ('out', 'RP'), ('tasks', 'NNS'), ('such', 'JJ'), ('as', 'IN'), ('face', 'NN'), ('and', 'CC'), ('speech', 'JJ'), ('recog-', 'JJ'), ('nition', 'NN'), (',', ','), ('which', 'WDT'), ('are', 'VBP'), ('frequently', 'RB'), ('performed', 'VBN'), ('on', 'IN'), ('our', 'PRP$'), ('mobile', 'JJ'), ('phones1', 'NN'), ('.', '.'), ('In', 'IN'), ('more', 'RBR'), ('complex', 'JJ'), ('applications', 'NNS'), (',', ','), ('such', 'JJ'), ('as', 'IN'), ('medical', 'JJ'), ('diagnostics2', 'NN'), ('and', 'CC'), ('autonomous', 'JJ'), ('driving1,3', 'NN'), (',', ','), ('high-speed', 'JJ'), ('data', 'NN'), ('analysis', 'NN'), ('will', 'MD'), ('become', 'VB'), ('ever', 'RB'), ('more', 'RBR'), ('important', 'JJ'), ('.', '.'), ('However', 'RB'), (',', ','), ('fulfilling', 'VBG'), ('this', 'DT'), ('demand', 'NN'), ('for', 'IN'), ('fast', 'JJ'), ('and', 'CC'), ('efficient', 'JJ'), ('processing', 'NN'), ('using', 'VBG'), ('traditional', 'JJ'), ('computation', 'NN'), ('techniques', 'NNS'), ('is', 'VBZ'), ('problematic', 'JJ'), (',', ','), ('owing', 'VBG'), ('to', 'TO'), ('speed', 'VB'), ('and', 'CC'), ('energy', 'NN'), ('inefficiencies4', 'NN'), ('.', '.'), ('Traditional', 'JJ'), ('computers', 'NNS'), ('are', 'VBP'), ('built', 'VBN'), ('following', 'VBG'), ('the', 'DT'), ('von', 'JJ'), ('Neumann', 'NNP'), ('architecture', 'NN'), (',', ','), ('with', 'IN'), ('two', 'CD'), ('separate', 'JJ'), ('units', 'NNS'), ('for', 'IN'), ('memory', 'NN'), ('and', 'CC'), ('processor', 'NN'), ('operating', 'NN'), ('in', 'IN'), ('a', 'DT'), ('sequential', 'JJ'), ('way', 'NN'), (',', ','), ('one', 'CD'), ('command', 'NN'), ('at', 'IN'), ('a', 'DT'), ('time', 'NN'), ('.', '.'), ('When', 'WRB'), ('compared', 'VBN'), ('to', 'TO'), ('the', 'DT'), ('massively', 'RB'), ('parallel', 'JJ'), ('signal', 'JJ'), ('processing', 'NN'), ('of', 'IN'), ('the', 'DT'), ('brain', 'NN'), (',', ','), ('it', 'PRP'), ('is', 'VBZ'), ('clear', 'JJ'), ('why', 'WRB'), ('simulating', 'VBG'), ('a', 'DT'), ('neural', 'JJ'), ('network', 'NN'), ('in', 'IN'), ('software', 'NN'), ('on', 'IN'), ('a', 'DT'), ('machine', 'NN'), ('based', 'VBN'), ('on', 'IN'), ('the', 'DT'), ('von', 'NN'), ('Neumann', 'NNP'), ('architecture', 'NN'), ('and', 'CC'), ('limited', 'VBN'), ('by', 'IN'), ('the', 'DT'), ('transfer', 'NN'), ('of', 'IN'), ('data', 'NNS'), ('between', 'IN'), ('memory', 'NN'), ('and', 'CC'), ('processor', 'NN'), ('can', 'MD'), ('not', 'RB'), ('be', 'VB'), ('efficient5', 'RB'), ('.', '.')]\n",
      "\n",
      "[('In', 'IN'), ('our', 'PRP$'), ('everyday', 'NN'), ('lives', 'NNS'), (',', ','), ('artificial', 'JJ'), ('neural', 'JJ'), ('networks', 'NNS'), ('are', 'VBP'), ('already', 'RB'), ('extensively', 'RB'), ('used', 'VBN'), (',', ','), ('for', 'IN'), ('example', 'NN'), (',', ','), ('for', 'IN'), ('carrying', 'VBG'), ('out', 'IN'), ('tasks', 'NNS'), ('such', 'JJ'), ('as', 'IN'), ('face', 'NN'), ('and', 'CC'), ('speech', 'NN'), ('recog-', 'NN'), ('nition', 'NN'), (',', ','), ('which', 'WDT'), ('are', 'VBP'), ('frequently', 'RB'), ('performed', 'VBN'), ('on', 'IN'), ('our', 'PRP$'), ('mobile', 'NN'), ('phones1', 'NN'), ('.', '.'), ('In', 'IN'), ('more', 'RBR'), ('complex', 'JJ'), ('applications', 'NNS'), (',', ','), ('such', 'JJ'), ('as', 'IN'), ('medical', 'JJ'), ('diagnostics2', 'NN'), ('and', 'CC'), ('autonomous', 'JJ'), ('driving1,3', 'NN'), (',', ','), ('high-speed', 'NN'), ('data', 'NNS'), ('analysis', 'NN'), ('will', 'MD'), ('become', 'NN'), ('ever', 'RB'), ('more', 'RBR'), ('important', 'JJ'), ('.', '.'), ('However', 'RB'), (',', ','), ('fulfilling', 'VBG'), ('this', 'DT'), ('demand', 'NN'), ('for', 'IN'), ('fast', 'NN'), ('and', 'CC'), ('efficient', 'NN'), ('processing', 'NN'), ('using', 'VBG'), ('traditional', 'JJ'), ('computation', 'NN'), ('techniques', 'NNS'), ('is', 'VBZ'), ('problematic', 'JJ'), (',', ','), ('owing', 'VBG'), ('to', 'TO'), ('speed', 'NN'), ('and', 'CC'), ('energy', 'NN'), ('inefficiencies4', 'NN'), ('.', '.'), ('Traditional', 'JJ'), ('computers', 'NNS'), ('are', 'VBP'), ('built', 'NN'), ('following', 'VBG'), ('the', 'DT'), ('von', 'NN'), ('Neumann', 'NN'), ('architecture', 'NN'), (',', ','), ('with', 'IN'), ('two', 'CD'), ('separate', 'JJ'), ('units', 'NNS'), ('for', 'IN'), ('memory', 'NN'), ('and', 'CC'), ('processor', 'NN'), ('operating', 'NN'), ('in', 'IN'), ('a', 'DT'), ('sequential', 'JJ'), ('way', 'NN'), (',', ','), ('one', 'CD'), ('command', 'NN'), ('at', 'IN'), ('a', 'DT'), ('time', 'NN'), ('.', '.'), ('When', 'WRB'), ('compared', 'VBN'), ('to', 'TO'), ('the', 'DT'), ('massively', 'RB'), ('parallel', 'NN'), ('signal', 'NN'), ('processing', 'NN'), ('of', 'IN'), ('the', 'DT'), ('brain', 'NN'), (',', ','), ('it', 'PRP'), ('is', 'VBZ'), ('clear', 'JJ'), ('why', 'WRB'), ('simulating', 'VBG'), ('a', 'DT'), ('neural', 'JJ'), ('network', 'NN'), ('in', 'IN'), ('software', 'NN'), ('on', 'IN'), ('a', 'DT'), ('machine', 'NN'), ('based', 'VBN'), ('on', 'IN'), ('the', 'DT'), ('von', 'NN'), ('Neumann', 'NN'), ('architecture', 'NN'), ('and', 'CC'), ('limited', 'JJ'), ('by', 'IN'), ('the', 'DT'), ('transfer', 'NN'), ('of', 'IN'), ('data', 'NNS'), ('between', 'IN'), ('memory', 'NN'), ('and', 'CC'), ('processor', 'NN'), ('can', 'MD'), ('not', 'RB'), ('be', 'VB'), ('efficient5', 'NN'), ('.', '.')]\n"
     ]
    },
    {
     "name": "stderr",
     "output_type": "stream",
     "text": [
      "[nltk_data] Downloading package tagsets to /home/nik/nltk_data...\n",
      "[nltk_data]   Package tagsets is already up-to-date!\n",
      "[nltk_data] Downloading package punkt to /home/nik/nltk_data...\n",
      "[nltk_data]   Package punkt is already up-to-date!\n",
      "[nltk_data] Downloading package averaged_perceptron_tagger to\n",
      "[nltk_data]     /home/nik/nltk_data...\n",
      "[nltk_data]   Package averaged_perceptron_tagger is already up-to-\n",
      "[nltk_data]       date!\n"
     ]
    }
   ],
   "source": [
    "import nltk\n",
    "  \n",
    "# Если пакет отсутствует, начните по его загрузке\n",
    "nltk.download('tagsets')\n",
    "nltk.download('punkt')\n",
    "nltk.download('averaged_perceptron_tagger')\n",
    "\n",
    "tagdict = nltk.data.load('help/tagsets/upenn_tagset.pickle')\n",
    "# Выведем список тегов\n",
    "print(sorted(tagdict.keys()))\n",
    "print()\n",
    "s = 'It is expected that this type of reaction be used in 21st century. Built. Procesing'\n",
    "s = 'Traditional computers are built following the von Neumann architecture, with two separate units for memory and processor operating in a sequential way, one command at a time'\n",
    "s = 'The synapses are built of optical waveguides'\n",
    "s = text\n",
    "\n",
    "words = nltk.word_tokenize(s)\n",
    "\n",
    "# words = s.split(' ')\n",
    "\n",
    "r_all=nltk.pos_tag(words)\n",
    "\n",
    "r_by_word=[]\n",
    "for w in words:\n",
    "    r_by_word.append(nltk.pos_tag([w])[0])\n",
    "\n",
    "print(f'{r_all==r_by_word = }')\n",
    "print()\n",
    "print(r_all)\n",
    "print()\n",
    "print(r_by_word)"
   ]
  },
  {
   "cell_type": "markdown",
   "metadata": {},
   "source": [
    "\n",
    "#### Для больших текстов эффективнее использовать pos_tag_sents\n"
   ]
  },
  {
   "cell_type": "code",
   "execution_count": 15,
   "metadata": {
    "scrolled": true
   },
   "outputs": [
    {
     "name": "stdout",
     "output_type": "stream",
     "text": [
      "[[('In', 'IN'), ('our', 'PRP$'), ('everyday', 'JJ'), ('lives', 'NNS'), (',', ','), ('artificial', 'JJ'), ('neural', 'JJ'), ('networks', 'NNS'), ('are', 'VBP'), ('already', 'RB'), ('extensively', 'RB'), ('used', 'VBN'), (',', ','), ('for', 'IN'), ('example', 'NN'), (',', ','), ('for', 'IN'), ('carrying', 'VBG'), ('out', 'RP'), ('tasks', 'NNS'), ('such', 'JJ'), ('as', 'IN'), ('face', 'NN'), ('and', 'CC'), ('speech', 'JJ'), ('recog-', 'JJ'), ('nition', 'NN'), (',', ','), ('which', 'WDT'), ('are', 'VBP'), ('frequently', 'RB'), ('performed', 'VBN'), ('on', 'IN'), ('our', 'PRP$'), ('mobile', 'JJ'), ('phones1', 'NN'), ('.', '.')], [('In', 'IN'), ('more', 'RBR'), ('complex', 'JJ'), ('applications', 'NNS'), (',', ','), ('such', 'JJ'), ('as', 'IN'), ('medical', 'JJ'), ('diagnostics2', 'NN'), ('and', 'CC'), ('autonomous', 'JJ'), ('driving1,3', 'NN'), (',', ','), ('high-speed', 'JJ'), ('data', 'NN'), ('analysis', 'NN'), ('will', 'MD'), ('become', 'VB'), ('ever', 'RB'), ('more', 'RBR'), ('important', 'JJ'), ('.', '.')], [('However', 'RB'), (',', ','), ('fulfilling', 'VBG'), ('this', 'DT'), ('demand', 'NN'), ('for', 'IN'), ('fast', 'JJ'), ('and', 'CC'), ('efficient', 'JJ'), ('processing', 'NN'), ('using', 'VBG'), ('traditional', 'JJ'), ('computation', 'NN'), ('techniques', 'NNS'), ('is', 'VBZ'), ('problematic', 'JJ'), (',', ','), ('owing', 'VBG'), ('to', 'TO'), ('speed', 'VB'), ('and', 'CC'), ('energy', 'NN'), ('inefficiencies4', 'NN'), ('.', '.')], [('Traditional', 'JJ'), ('computers', 'NNS'), ('are', 'VBP'), ('built', 'VBN'), ('following', 'VBG'), ('the', 'DT'), ('von', 'JJ'), ('Neumann', 'NNP'), ('architecture', 'NN'), (',', ','), ('with', 'IN'), ('two', 'CD'), ('separate', 'JJ'), ('units', 'NNS'), ('for', 'IN'), ('memory', 'NN'), ('and', 'CC'), ('processor', 'NN'), ('operating', 'NN'), ('in', 'IN'), ('a', 'DT'), ('sequential', 'JJ'), ('way', 'NN'), (',', ','), ('one', 'CD'), ('command', 'NN'), ('at', 'IN'), ('a', 'DT'), ('time', 'NN'), ('.', '.')], [('When', 'WRB'), ('compared', 'VBN'), ('to', 'TO'), ('the', 'DT'), ('massively', 'RB'), ('parallel', 'JJ'), ('signal', 'JJ'), ('processing', 'NN'), ('of', 'IN'), ('the', 'DT'), ('brain', 'NN'), (',', ','), ('it', 'PRP'), ('is', 'VBZ'), ('clear', 'JJ'), ('why', 'WRB'), ('simulating', 'VBG'), ('a', 'DT'), ('neural', 'JJ'), ('network', 'NN'), ('in', 'IN'), ('software', 'NN'), ('on', 'IN'), ('a', 'DT'), ('machine', 'NN'), ('based', 'VBN'), ('on', 'IN'), ('the', 'DT'), ('von', 'NN'), ('Neumann', 'NNP'), ('architecture', 'NN'), ('and', 'CC'), ('limited', 'VBN'), ('by', 'IN'), ('the', 'DT'), ('transfer', 'NN'), ('of', 'IN'), ('data', 'NNS'), ('between', 'IN'), ('memory', 'NN'), ('and', 'CC'), ('processor', 'NN'), ('can', 'MD'), ('not', 'RB'), ('be', 'VB'), ('efficient5', 'RB'), ('.', '.')]]\n"
     ]
    }
   ],
   "source": [
    "sents = nltk.sent_tokenize(text)\n",
    "s = [nltk.word_tokenize(s) for s in sents]\n",
    "print(nltk.pos_tag_sents(s, tagset=None, lang='eng')) # именные параметры приыведены для напоминания, что они есть"
   ]
  },
  {
   "cell_type": "code",
   "execution_count": 24,
   "metadata": {
    "scrolled": true
   },
   "outputs": [
    {
     "name": "stdout",
     "output_type": "stream",
     "text": [
      "0 ['1', '2', '3', '4', '5', '6']\n",
      "1 ['1', '2', 'r1', 'r2']\n",
      "2 ['1', '2', '3', '4', '5', '6', 'r1', 'r2']\n",
      "3 ['1', '2', 'r1', 'r2', 'r3']\n",
      "4 ['1', '2', '3', '4', 'r1', 'r2', 'r3']\n",
      "5 ['1', '2', '3', '4', 'r1', 'r2', 'r3']\n",
      "6 ['1', '2', '3', '4', '5', '6', '7']\n",
      "7 ['1', '2', '3', '4', '5', '6']\n"
     ]
    }
   ],
   "source": [
    "import fitz\n",
    "doc = fitz.open('10.1038@s41586-019-1157-8 - markup.pdf')\n",
    "\n",
    "text = {}\n",
    "with open('10.1038@s41586-019-1157-8 - markup', 'w') as f:\n",
    "    for i,doc_page in enumerate(doc):\n",
    "        page = {}\n",
    "        for annot in doc_page.annots():\n",
    "            page[annot.info['content']] = doc_page.get_text(clip=annot.rect)\n",
    "        keys = sorted(page.keys())\n",
    "        \n",
    "        print(f'{i}', keys)\n",
    "        f.write(f'[page {i}]\\n')\n",
    "        full_page = []\n",
    "        for k in keys:\n",
    "            f.write(page[k])\n",
    "            f.write('\\n')\n",
    "            full_page.append(page[k] + '\\n')\n",
    "        text[i] = full_page"
   ]
  },
  {
   "cell_type": "code",
   "execution_count": 28,
   "metadata": {},
   "outputs": [],
   "source": [
    "import nltk\n",
    "keys = sorted(text.keys())\n",
    "tokenaise_page = []\n",
    "for k in keys:\n",
    "    for t in text[k]:\n",
    "        sents = nltk.sent_tokenize(t)\n",
    "        s = [nltk.word_tokenize(s) for s in sents]\n",
    "        tokenaise_page.append( nltk.pos_tag_sents(s, tagset=None, lang='eng') )"
   ]
  },
  {
   "cell_type": "code",
   "execution_count": 31,
   "metadata": {},
   "outputs": [
    {
     "name": "stdout",
     "output_type": "stream",
     "text": [
      "[[('33', 'CD'), ('.', '.')], [('Ríos', 'NNP'), (',', ','), ('C.', 'NNP'), ('et', 'CC'), ('al', 'NN'), ('.', '.')], [('Integrated', 'VBN'), ('all-photonic', 'JJ'), ('non-volatile', 'JJ'), ('multi-level', 'JJ'), ('memory', 'NN'), ('.', '.')], [('Nat', 'NNP'), ('.', '.')], [('Photon', 'NNP'), ('.', '.')], [('9', 'CD'), (',', ','), ('725–732', 'CD'), ('(', '('), ('2015', 'CD'), (')', ')'), ('.', '.')], [('34', 'CD'), ('.', '.')], [('Goldhahn', 'NNP'), (',', ','), ('D.', 'NNP'), (',', ','), ('Eckart', 'NNP'), (',', ','), ('T.', 'NNP'), ('&', 'CC'), ('Quasthoff', 'NNP'), (',', ','), ('U', 'NNP'), ('.', '.')], [('Building', 'VBG'), ('large', 'JJ'), ('monolingual', 'JJ'), ('dictionaries', 'NNS'), ('at', 'IN'), ('the', 'DT'), ('Leipzig', 'NNP'), ('Corpora', 'NNP'), ('Collection', 'NNP'), (':', ':'), ('from', 'IN'), ('100', 'CD'), ('to', 'TO'), ('200', 'CD'), ('languages', 'NNS'), ('.', '.')], [('In', 'IN'), ('Proc', 'NNP'), ('.', '.')], [('8th', 'CD'), ('Int', 'NNP'), ('.', '.')], [('Conf', 'NNP'), ('.', '.')], [('on', 'IN'), ('Language', 'NNP'), ('Resources', 'NNPS'), ('and', 'CC'), ('Evaluation', 'NNP'), ('(', '('), ('LREC', 'NNP'), ('’', 'NNP'), ('12', 'CD'), (')', ')'), ('http', 'NN'), (':', ':'), ('//www.lrec-conf', 'NN'), ('.', '.')], [('org/proceedings/lrec2012/pdf/327_Paper.pdf', 'NN'), ('(', '('), ('2012', 'CD'), (')', ')'), ('.', '.')]]\n"
     ]
    }
   ],
   "source": [
    "print(tokenaise_page[-1])"
   ]
  },
  {
   "cell_type": "code",
   "execution_count": null,
   "metadata": {},
   "outputs": [],
   "source": []
  }
 ],
 "metadata": {
  "kernelspec": {
   "display_name": "Python 3",
   "language": "python",
   "name": "python3"
  },
  "language_info": {
   "codemirror_mode": {
    "name": "ipython",
    "version": 3
   },
   "file_extension": ".py",
   "mimetype": "text/x-python",
   "name": "python",
   "nbconvert_exporter": "python",
   "pygments_lexer": "ipython3",
   "version": "3.9.18"
  }
 },
 "nbformat": 4,
 "nbformat_minor": 5
}
