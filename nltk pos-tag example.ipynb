{
 "cells": [
  {
   "cell_type": "code",
   "execution_count": 6,
   "id": "00da8410",
   "metadata": {},
   "outputs": [],
   "source": [
    "text = 'In our everyday lives, artificial neural networks are already extensively \\\n",
    "used, for example, for carrying out tasks such as face and speech recog- \\\n",
    "nition, which are frequently performed on our mobile phones1. In more \\\n",
    "complex applications, such as medical diagnostics2 and autonomous \\\n",
    "driving1,3, high-speed data analysis will become ever more important. \\\n",
    "However, fulfilling this demand for fast and efficient processing using \\\n",
    "traditional computation techniques is problematic, owing to speed and \\\n",
    "energy inefficiencies4. Traditional computers are built following the \\\n",
    "von Neumann architecture, with two separate units for memory and \\\n",
    "processor operating in a sequential way, one command at a time. When \\\n",
    "compared to the massively parallel signal processing of the brain, it \\\n",
    "is clear why simulating a neural network in software on a machine \\\n",
    "based on the von Neumann architecture and limited by the transfer of \\\n",
    "data between memory and processor cannot be efficient5.'"
   ]
  },
  {
   "cell_type": "code",
   "execution_count": 7,
   "id": "07a2c4d5",
   "metadata": {},
   "outputs": [
    {
     "name": "stdout",
     "output_type": "stream",
     "text": [
      "['$', \"''\", '(', ')', ',', '--', '.', ':', 'CC', 'CD', 'DT', 'EX', 'FW', 'IN', 'JJ', 'JJR', 'JJS', 'LS', 'MD', 'NN', 'NNP', 'NNPS', 'NNS', 'PDT', 'POS', 'PRP', 'PRP$', 'RB', 'RBR', 'RBS', 'RP', 'SYM', 'TO', 'UH', 'VB', 'VBD', 'VBG', 'VBN', 'VBP', 'VBZ', 'WDT', 'WP', 'WP$', 'WRB', '``']\n",
      "\n",
      "r_all==r_by_word = False\n",
      "\n",
      "[('In', 'IN'), ('our', 'PRP$'), ('everyday', 'JJ'), ('lives', 'NNS'), (',', ','), ('artificial', 'JJ'), ('neural', 'JJ'), ('networks', 'NNS'), ('are', 'VBP'), ('already', 'RB'), ('extensively', 'RB'), ('used', 'VBN'), (',', ','), ('for', 'IN'), ('example', 'NN'), (',', ','), ('for', 'IN'), ('carrying', 'VBG'), ('out', 'RP'), ('tasks', 'NNS'), ('such', 'JJ'), ('as', 'IN'), ('face', 'NN'), ('and', 'CC'), ('speech', 'JJ'), ('recog-', 'JJ'), ('nition', 'NN'), (',', ','), ('which', 'WDT'), ('are', 'VBP'), ('frequently', 'RB'), ('performed', 'VBN'), ('on', 'IN'), ('our', 'PRP$'), ('mobile', 'JJ'), ('phones1', 'NN'), ('.', '.'), ('In', 'IN'), ('more', 'RBR'), ('complex', 'JJ'), ('applications', 'NNS'), (',', ','), ('such', 'JJ'), ('as', 'IN'), ('medical', 'JJ'), ('diagnostics2', 'NN'), ('and', 'CC'), ('autonomous', 'JJ'), ('driving1,3', 'NN'), (',', ','), ('high-speed', 'JJ'), ('data', 'NN'), ('analysis', 'NN'), ('will', 'MD'), ('become', 'VB'), ('ever', 'RB'), ('more', 'RBR'), ('important', 'JJ'), ('.', '.'), ('However', 'RB'), (',', ','), ('fulfilling', 'VBG'), ('this', 'DT'), ('demand', 'NN'), ('for', 'IN'), ('fast', 'JJ'), ('and', 'CC'), ('efficient', 'JJ'), ('processing', 'NN'), ('using', 'VBG'), ('traditional', 'JJ'), ('computation', 'NN'), ('techniques', 'NNS'), ('is', 'VBZ'), ('problematic', 'JJ'), (',', ','), ('owing', 'VBG'), ('to', 'TO'), ('speed', 'VB'), ('and', 'CC'), ('energy', 'NN'), ('inefficiencies4', 'NN'), ('.', '.'), ('Traditional', 'JJ'), ('computers', 'NNS'), ('are', 'VBP'), ('built', 'VBN'), ('following', 'VBG'), ('the', 'DT'), ('von', 'JJ'), ('Neumann', 'NNP'), ('architecture', 'NN'), (',', ','), ('with', 'IN'), ('two', 'CD'), ('separate', 'JJ'), ('units', 'NNS'), ('for', 'IN'), ('memory', 'NN'), ('and', 'CC'), ('processor', 'NN'), ('operating', 'NN'), ('in', 'IN'), ('a', 'DT'), ('sequential', 'JJ'), ('way', 'NN'), (',', ','), ('one', 'CD'), ('command', 'NN'), ('at', 'IN'), ('a', 'DT'), ('time', 'NN'), ('.', '.'), ('When', 'WRB'), ('compared', 'VBN'), ('to', 'TO'), ('the', 'DT'), ('massively', 'RB'), ('parallel', 'JJ'), ('signal', 'JJ'), ('processing', 'NN'), ('of', 'IN'), ('the', 'DT'), ('brain', 'NN'), (',', ','), ('it', 'PRP'), ('is', 'VBZ'), ('clear', 'JJ'), ('why', 'WRB'), ('simulating', 'VBG'), ('a', 'DT'), ('neural', 'JJ'), ('network', 'NN'), ('in', 'IN'), ('software', 'NN'), ('on', 'IN'), ('a', 'DT'), ('machine', 'NN'), ('based', 'VBN'), ('on', 'IN'), ('the', 'DT'), ('von', 'NN'), ('Neumann', 'NNP'), ('architecture', 'NN'), ('and', 'CC'), ('limited', 'VBN'), ('by', 'IN'), ('the', 'DT'), ('transfer', 'NN'), ('of', 'IN'), ('data', 'NNS'), ('between', 'IN'), ('memory', 'NN'), ('and', 'CC'), ('processor', 'NN'), ('can', 'MD'), ('not', 'RB'), ('be', 'VB'), ('efficient5', 'RB'), ('.', '.')]\n",
      "\n",
      "[('In', 'IN'), ('our', 'PRP$'), ('everyday', 'NN'), ('lives', 'NNS'), (',', ','), ('artificial', 'JJ'), ('neural', 'JJ'), ('networks', 'NNS'), ('are', 'VBP'), ('already', 'RB'), ('extensively', 'RB'), ('used', 'VBN'), (',', ','), ('for', 'IN'), ('example', 'NN'), (',', ','), ('for', 'IN'), ('carrying', 'VBG'), ('out', 'IN'), ('tasks', 'NNS'), ('such', 'JJ'), ('as', 'IN'), ('face', 'NN'), ('and', 'CC'), ('speech', 'NN'), ('recog-', 'NN'), ('nition', 'NN'), (',', ','), ('which', 'WDT'), ('are', 'VBP'), ('frequently', 'RB'), ('performed', 'VBN'), ('on', 'IN'), ('our', 'PRP$'), ('mobile', 'NN'), ('phones1', 'NN'), ('.', '.'), ('In', 'IN'), ('more', 'RBR'), ('complex', 'JJ'), ('applications', 'NNS'), (',', ','), ('such', 'JJ'), ('as', 'IN'), ('medical', 'JJ'), ('diagnostics2', 'NN'), ('and', 'CC'), ('autonomous', 'JJ'), ('driving1,3', 'NN'), (',', ','), ('high-speed', 'NN'), ('data', 'NNS'), ('analysis', 'NN'), ('will', 'MD'), ('become', 'NN'), ('ever', 'RB'), ('more', 'RBR'), ('important', 'JJ'), ('.', '.'), ('However', 'RB'), (',', ','), ('fulfilling', 'VBG'), ('this', 'DT'), ('demand', 'NN'), ('for', 'IN'), ('fast', 'NN'), ('and', 'CC'), ('efficient', 'NN'), ('processing', 'NN'), ('using', 'VBG'), ('traditional', 'JJ'), ('computation', 'NN'), ('techniques', 'NNS'), ('is', 'VBZ'), ('problematic', 'JJ'), (',', ','), ('owing', 'VBG'), ('to', 'TO'), ('speed', 'NN'), ('and', 'CC'), ('energy', 'NN'), ('inefficiencies4', 'NN'), ('.', '.'), ('Traditional', 'JJ'), ('computers', 'NNS'), ('are', 'VBP'), ('built', 'NN'), ('following', 'VBG'), ('the', 'DT'), ('von', 'NN'), ('Neumann', 'NN'), ('architecture', 'NN'), (',', ','), ('with', 'IN'), ('two', 'CD'), ('separate', 'JJ'), ('units', 'NNS'), ('for', 'IN'), ('memory', 'NN'), ('and', 'CC'), ('processor', 'NN'), ('operating', 'NN'), ('in', 'IN'), ('a', 'DT'), ('sequential', 'JJ'), ('way', 'NN'), (',', ','), ('one', 'CD'), ('command', 'NN'), ('at', 'IN'), ('a', 'DT'), ('time', 'NN'), ('.', '.'), ('When', 'WRB'), ('compared', 'VBN'), ('to', 'TO'), ('the', 'DT'), ('massively', 'RB'), ('parallel', 'NN'), ('signal', 'NN'), ('processing', 'NN'), ('of', 'IN'), ('the', 'DT'), ('brain', 'NN'), (',', ','), ('it', 'PRP'), ('is', 'VBZ'), ('clear', 'JJ'), ('why', 'WRB'), ('simulating', 'VBG'), ('a', 'DT'), ('neural', 'JJ'), ('network', 'NN'), ('in', 'IN'), ('software', 'NN'), ('on', 'IN'), ('a', 'DT'), ('machine', 'NN'), ('based', 'VBN'), ('on', 'IN'), ('the', 'DT'), ('von', 'NN'), ('Neumann', 'NN'), ('architecture', 'NN'), ('and', 'CC'), ('limited', 'JJ'), ('by', 'IN'), ('the', 'DT'), ('transfer', 'NN'), ('of', 'IN'), ('data', 'NNS'), ('between', 'IN'), ('memory', 'NN'), ('and', 'CC'), ('processor', 'NN'), ('can', 'MD'), ('not', 'RB'), ('be', 'VB'), ('efficient5', 'NN'), ('.', '.')]\n"
     ]
    },
    {
     "name": "stderr",
     "output_type": "stream",
     "text": [
      "[nltk_data] Downloading package tagsets to /home/nik/nltk_data...\n",
      "[nltk_data]   Package tagsets is already up-to-date!\n",
      "[nltk_data] Downloading package punkt to /home/nik/nltk_data...\n",
      "[nltk_data]   Package punkt is already up-to-date!\n",
      "[nltk_data] Downloading package averaged_perceptron_tagger to\n",
      "[nltk_data]     /home/nik/nltk_data...\n",
      "[nltk_data]   Package averaged_perceptron_tagger is already up-to-\n",
      "[nltk_data]       date!\n"
     ]
    }
   ],
   "source": [
    "import nltk\n",
    "  \n",
    "# Если пакет отсутствует, начните по его загрузке\n",
    "nltk.download('tagsets')\n",
    "nltk.download('punkt')\n",
    "nltk.download('averaged_perceptron_tagger')\n",
    "\n",
    "tagdict = nltk.data.load('help/tagsets/upenn_tagset.pickle')\n",
    "# Выведем список тегов\n",
    "print(sorted(tagdict.keys()))\n",
    "print()\n",
    "s = 'It is expected that this type of reaction be used in 21st century. Built. Procesing'\n",
    "s = 'Traditional computers are built following the von Neumann architecture, with two separate units for memory and processor operating in a sequential way, one command at a time'\n",
    "s = 'The synapses are built of optical waveguides'\n",
    "s = text\n",
    "\n",
    "words = nltk.word_tokenize(s)\n",
    "\n",
    "# words = s.split(' ')\n",
    "\n",
    "r_all=nltk.pos_tag(words)\n",
    "\n",
    "r_by_word=[]\n",
    "for w in words:\n",
    "    r_by_word.append(nltk.pos_tag([w])[0])\n",
    "\n",
    "print(f'{r_all==r_by_word = }')\n",
    "print()\n",
    "print(r_all)\n",
    "print()\n",
    "print(r_by_word)"
   ]
  },
  {
   "cell_type": "markdown",
   "id": "2cacbb2f",
   "metadata": {},
   "source": [
    "\n",
    "#### Для больших текстов эффективнее использовать pos_tag_sents\n"
   ]
  },
  {
   "cell_type": "code",
   "execution_count": 15,
   "id": "715f0457",
   "metadata": {
    "scrolled": true
   },
   "outputs": [
    {
     "name": "stdout",
     "output_type": "stream",
     "text": [
      "[[('In', 'IN'), ('our', 'PRP$'), ('everyday', 'JJ'), ('lives', 'NNS'), (',', ','), ('artificial', 'JJ'), ('neural', 'JJ'), ('networks', 'NNS'), ('are', 'VBP'), ('already', 'RB'), ('extensively', 'RB'), ('used', 'VBN'), (',', ','), ('for', 'IN'), ('example', 'NN'), (',', ','), ('for', 'IN'), ('carrying', 'VBG'), ('out', 'RP'), ('tasks', 'NNS'), ('such', 'JJ'), ('as', 'IN'), ('face', 'NN'), ('and', 'CC'), ('speech', 'JJ'), ('recog-', 'JJ'), ('nition', 'NN'), (',', ','), ('which', 'WDT'), ('are', 'VBP'), ('frequently', 'RB'), ('performed', 'VBN'), ('on', 'IN'), ('our', 'PRP$'), ('mobile', 'JJ'), ('phones1', 'NN'), ('.', '.')], [('In', 'IN'), ('more', 'RBR'), ('complex', 'JJ'), ('applications', 'NNS'), (',', ','), ('such', 'JJ'), ('as', 'IN'), ('medical', 'JJ'), ('diagnostics2', 'NN'), ('and', 'CC'), ('autonomous', 'JJ'), ('driving1,3', 'NN'), (',', ','), ('high-speed', 'JJ'), ('data', 'NN'), ('analysis', 'NN'), ('will', 'MD'), ('become', 'VB'), ('ever', 'RB'), ('more', 'RBR'), ('important', 'JJ'), ('.', '.')], [('However', 'RB'), (',', ','), ('fulfilling', 'VBG'), ('this', 'DT'), ('demand', 'NN'), ('for', 'IN'), ('fast', 'JJ'), ('and', 'CC'), ('efficient', 'JJ'), ('processing', 'NN'), ('using', 'VBG'), ('traditional', 'JJ'), ('computation', 'NN'), ('techniques', 'NNS'), ('is', 'VBZ'), ('problematic', 'JJ'), (',', ','), ('owing', 'VBG'), ('to', 'TO'), ('speed', 'VB'), ('and', 'CC'), ('energy', 'NN'), ('inefficiencies4', 'NN'), ('.', '.')], [('Traditional', 'JJ'), ('computers', 'NNS'), ('are', 'VBP'), ('built', 'VBN'), ('following', 'VBG'), ('the', 'DT'), ('von', 'JJ'), ('Neumann', 'NNP'), ('architecture', 'NN'), (',', ','), ('with', 'IN'), ('two', 'CD'), ('separate', 'JJ'), ('units', 'NNS'), ('for', 'IN'), ('memory', 'NN'), ('and', 'CC'), ('processor', 'NN'), ('operating', 'NN'), ('in', 'IN'), ('a', 'DT'), ('sequential', 'JJ'), ('way', 'NN'), (',', ','), ('one', 'CD'), ('command', 'NN'), ('at', 'IN'), ('a', 'DT'), ('time', 'NN'), ('.', '.')], [('When', 'WRB'), ('compared', 'VBN'), ('to', 'TO'), ('the', 'DT'), ('massively', 'RB'), ('parallel', 'JJ'), ('signal', 'JJ'), ('processing', 'NN'), ('of', 'IN'), ('the', 'DT'), ('brain', 'NN'), (',', ','), ('it', 'PRP'), ('is', 'VBZ'), ('clear', 'JJ'), ('why', 'WRB'), ('simulating', 'VBG'), ('a', 'DT'), ('neural', 'JJ'), ('network', 'NN'), ('in', 'IN'), ('software', 'NN'), ('on', 'IN'), ('a', 'DT'), ('machine', 'NN'), ('based', 'VBN'), ('on', 'IN'), ('the', 'DT'), ('von', 'NN'), ('Neumann', 'NNP'), ('architecture', 'NN'), ('and', 'CC'), ('limited', 'VBN'), ('by', 'IN'), ('the', 'DT'), ('transfer', 'NN'), ('of', 'IN'), ('data', 'NNS'), ('between', 'IN'), ('memory', 'NN'), ('and', 'CC'), ('processor', 'NN'), ('can', 'MD'), ('not', 'RB'), ('be', 'VB'), ('efficient5', 'RB'), ('.', '.')]]\n"
     ]
    }
   ],
   "source": [
    "sents = nltk.sent_tokenize(text)\n",
    "s = [nltk.word_tokenize(s) for s in sents]\n",
    "print(nltk.pos_tag_sents(s, tagset=None, lang='eng')) # именные параметры приыведены для напоминания, что они есть"
   ]
  },
  {
   "cell_type": "markdown",
   "id": "cba623ac",
   "metadata": {},
   "source": [
    "#### Вычитываем выделенные области из pdf файла\n",
    "\n",
    "text = [page0, page1, ...]   \n",
    "page = {'Пометка из аннотации', 'text'}"
   ]
  },
  {
   "cell_type": "code",
   "execution_count": 105,
   "id": "16d387a5",
   "metadata": {
    "scrolled": true
   },
   "outputs": [
    {
     "name": "stdout",
     "output_type": "stream",
     "text": [
      "0 ['1h', '2', '3', '4', '5', '6', '7h', '8']\n",
      "1 ['1-p', '2', '3', '4-p', '5', '6', 'f1', 'f2-p']\n",
      "2 []\n",
      "3 []\n",
      "4 []\n",
      "5 []\n",
      "6 []\n",
      "7 []\n"
     ]
    }
   ],
   "source": [
    "import fitz\n",
    "from pathlib import Path\n",
    "\n",
    "file_path = '10.1038@s41586-019-1157-8 - markup.pdf'\n",
    "file_name = Path(file_path).stem\n",
    "file_dir_path = Path(file_path).parent.resolve()\n",
    "\n",
    "\n",
    "doc = fitz.open(file_path)\n",
    "\n",
    "text = []\n",
    "for i,doc_page in enumerate(doc):\n",
    "    page = {}\n",
    "    for annot in doc_page.annots():\n",
    "        page[annot.info['content']] = doc_page.get_text(clip=annot.rect)\n",
    "    keys = sorted(page.keys())\n",
    "    print(f'{i}', keys)\n",
    "    text.append(page)"
   ]
  },
  {
   "cell_type": "markdown",
   "id": "66117562",
   "metadata": {},
   "source": [
    "Объединяем "
   ]
  },
  {
   "cell_type": "code",
   "execution_count": null,
   "id": "90c08d83",
   "metadata": {},
   "outputs": [],
   "source": []
  },
  {
   "cell_type": "markdown",
   "id": "70732d2f",
   "metadata": {},
   "source": [
    "#### Токенезируем\n",
    "\n",
    "tokenaise_text = [page0, page1, ...]  \n",
    "page = {'Пометка из аннотации', 'text'}"
   ]
  },
  {
   "cell_type": "code",
   "execution_count": 106,
   "id": "6e43d5b0",
   "metadata": {},
   "outputs": [],
   "source": [
    "import nltk\n",
    "tokenaise_text = []\n",
    "for page in text:\n",
    "    tokenaise_page = {}\n",
    "    keys = sorted(page.keys())\n",
    "    for k in keys:\n",
    "        sents = nltk.sent_tokenize(page[k])\n",
    "        s = [nltk.word_tokenize(s) for s in sents]\n",
    "        tokenaise_page[k] = nltk.pos_tag_sents(s, tagset=None, lang='eng')\n",
    "    tokenaise_text.append(tokenaise_page)"
   ]
  },
  {
   "cell_type": "code",
   "execution_count": 75,
   "id": "dcd44505",
   "metadata": {},
   "outputs": [
    {
     "name": "stdout",
     "output_type": "stream",
     "text": [
      "{'1h': [[('All-optical', 'JJ'), ('spiking', 'VBG'), ('neurosynaptic', 'JJ'), ('networks', 'NNS'), ('with', 'IN'), ('self-learning', 'JJ'), ('capabilities', 'NNS')]], '2': [[('Software', 'NNP'), ('implementations', 'NNS'), ('of', 'IN'), ('brain-inspired', 'JJ'), ('computing', 'VBG'), ('underlie', 'JJ'), ('many', 'JJ'), ('important', 'JJ'), ('computational', 'JJ'), ('tasks', 'NNS'), (',', ','), ('from', 'IN'), ('image', 'NN'), ('processing', 'NN'), ('to', 'TO'), ('speech', 'VB'), ('recognition', 'NN'), (',', ','), ('artificial', 'JJ'), ('intelligence', 'NN'), ('and', 'CC'), ('deep', 'JJ'), ('learning', 'NN'), ('applications', 'NNS'), ('.', '.')], [('Yet', 'RB'), (',', ','), ('unlike', 'IN'), ('real', 'JJ'), ('neural', 'JJ'), ('tissue', 'NN'), (',', ','), ('traditional', 'JJ'), ('computing', 'NN'), ('architectures', 'NNS'), ('physically', 'RB'), ('separate', 'VBP'), ('the', 'DT'), ('core', 'NN'), ('computing', 'VBG'), ('functions', 'NNS'), ('of', 'IN'), ('memory', 'NN'), ('and', 'CC'), ('processing', 'NN'), (',', ','), ('making', 'VBG'), ('fast', 'RB'), (',', ','), ('efficient', 'JJ'), ('and', 'CC'), ('low-energy', 'JJ'), ('computing', 'VBG'), ('difficult', 'JJ'), ('to', 'TO'), ('achieve', 'VB'), ('.', '.')], [('To', 'TO'), ('overcome', 'VB'), ('such', 'JJ'), ('limitations', 'NNS'), (',', ','), ('an', 'DT'), ('attractive', 'JJ'), ('alternative', 'NN'), ('is', 'VBZ'), ('to', 'TO'), ('design', 'VB'), ('hardware', 'NN'), ('that', 'IN'), ('mimics', 'NNS'), ('neurons', 'NNS'), ('and', 'CC'), ('synapses', 'NNS'), ('.', '.')], [('Such', 'JJ'), ('hardware', 'NN'), (',', ','), ('when', 'WRB'), ('connected', 'VBN'), ('in', 'IN'), ('networks', 'NNS'), ('or', 'CC'), ('neuromorphic', 'JJ'), ('systems', 'NNS'), (',', ','), ('processes', 'VBZ'), ('information', 'NN'), ('in', 'IN'), ('a', 'DT'), ('way', 'NN'), ('more', 'RBR'), ('analogous', 'JJ'), ('to', 'TO'), ('brains', 'NNS'), ('.', '.')], [('Here', 'RB'), ('we', 'PRP'), ('present', 'VBP'), ('an', 'DT'), ('all-optical', 'JJ'), ('version', 'NN'), ('of', 'IN'), ('such', 'JJ'), ('a', 'DT'), ('neurosynaptic', 'JJ'), ('system', 'NN'), (',', ','), ('capable', 'JJ'), ('of', 'IN'), ('supervised', 'JJ'), ('and', 'CC'), ('unsupervised', 'JJ'), ('learning', 'NN'), ('.', '.')], [('We', 'PRP'), ('exploit', 'VBP'), ('wavelength', 'JJ'), ('division', 'NN'), ('multiplexing', 'VBG'), ('techniques', 'NNS'), ('to', 'TO'), ('implement', 'VB'), ('a', 'DT'), ('scalable', 'JJ'), ('circuit', 'NN'), ('architecture', 'NN'), ('for', 'IN'), ('photonic', 'JJ'), ('neural', 'JJ'), ('networks', 'NNS'), (',', ','), ('successfully', 'RB'), ('demonstrating', 'VBG'), ('pattern', 'JJ'), ('recognition', 'NN'), ('directly', 'RB'), ('in', 'IN'), ('the', 'DT'), ('optical', 'JJ'), ('domain', 'NN'), ('.', '.')], [('Such', 'JJ'), ('photonic', 'JJ'), ('neurosynaptic', 'JJ'), ('networks', 'NNS'), ('promise', 'VBP'), ('access', 'NN'), ('to', 'TO'), ('the', 'DT'), ('high', 'JJ'), ('speed', 'NN'), ('and', 'CC'), ('high', 'JJ'), ('bandwidth', 'NN'), ('inherent', 'JJ'), ('to', 'TO'), ('optical', 'JJ'), ('systems', 'NNS'), (',', ','), ('thus', 'RB'), ('enabling', 'VBG'), ('the', 'DT'), ('direct', 'JJ'), ('processing', 'NN'), ('of', 'IN'), ('optical', 'JJ'), ('telecommunication', 'NN'), ('and', 'CC'), ('visual', 'JJ'), ('data', 'NNS'), ('.', '.')]], '3': [[('In', 'IN'), ('our', 'PRP$'), ('everyday', 'JJ'), ('lives', 'NNS'), (',', ','), ('artificial', 'JJ'), ('neural', 'JJ'), ('networks', 'NNS'), ('are', 'VBP'), ('already', 'RB'), ('extensively', 'RB'), ('used', 'VBN'), (',', ','), ('for', 'IN'), ('example', 'NN'), (',', ','), ('for', 'IN'), ('carrying', 'VBG'), ('out', 'RP'), ('tasks', 'NNS'), ('such', 'JJ'), ('as', 'IN'), ('face', 'NN'), ('and', 'CC'), ('speech', 'JJ'), ('recog-', 'JJ'), ('nition', 'NN'), (',', ','), ('which', 'WDT'), ('are', 'VBP'), ('frequently', 'RB'), ('performed', 'VBN'), ('on', 'IN'), ('our', 'PRP$'), ('mobile', 'JJ'), ('phones1', 'NN'), ('.', '.')], [('In', 'IN'), ('more', 'RBR'), ('complex', 'JJ'), ('applications', 'NNS'), (',', ','), ('such', 'JJ'), ('as', 'IN'), ('medical', 'JJ'), ('diagnostics2', 'NN'), ('and', 'CC'), ('autonomous', 'JJ'), ('driving1,3', 'NN'), (',', ','), ('high-speed', 'JJ'), ('data', 'NN'), ('analysis', 'NN'), ('will', 'MD'), ('become', 'VB'), ('ever', 'RB'), ('more', 'RBR'), ('important', 'JJ'), ('.', '.')], [('However', 'RB'), (',', ','), ('fulfilling', 'VBG'), ('this', 'DT'), ('demand', 'NN'), ('for', 'IN'), ('fast', 'JJ'), ('and', 'CC'), ('efficient', 'JJ'), ('processing', 'NN'), ('using', 'VBG'), ('traditional', 'JJ'), ('computation', 'NN'), ('techniques', 'NNS'), ('is', 'VBZ'), ('problematic', 'JJ'), (',', ','), ('owing', 'VBG'), ('to', 'TO'), ('speed', 'VB'), ('and', 'CC'), ('energy', 'NN'), ('inefficiencies4', 'NN'), ('.', '.')], [('Traditional', 'JJ'), ('computers', 'NNS'), ('are', 'VBP'), ('built', 'VBN'), ('following', 'VBG'), ('the', 'DT'), ('von', 'JJ'), ('Neumann', 'NNP'), ('architecture', 'NN'), (',', ','), ('with', 'IN'), ('two', 'CD'), ('separate', 'JJ'), ('units', 'NNS'), ('for', 'IN'), ('memory', 'NN'), ('and', 'CC'), ('processor', 'NN'), ('operating', 'NN'), ('in', 'IN'), ('a', 'DT'), ('sequential', 'JJ'), ('way', 'NN'), (',', ','), ('one', 'CD'), ('command', 'NN'), ('at', 'IN'), ('a', 'DT'), ('time', 'NN'), ('.', '.')], [('When', 'WRB'), ('compared', 'VBN'), ('to', 'TO'), ('the', 'DT'), ('massively', 'RB'), ('parallel', 'JJ'), ('signal', 'JJ'), ('processing', 'NN'), ('of', 'IN'), ('the', 'DT'), ('brain', 'NN'), (',', ','), ('it', 'PRP'), ('is', 'VBZ'), ('clear', 'JJ'), ('why', 'WRB'), ('simulating', 'VBG'), ('a', 'DT'), ('neural', 'JJ'), ('network', 'NN'), ('in', 'IN'), ('software', 'NN'), ('on', 'IN'), ('a', 'DT'), ('machine', 'NN'), ('based', 'VBN'), ('on', 'IN'), ('the', 'DT'), ('von', 'NN'), ('Neumann', 'NNP'), ('architecture', 'NN'), ('and', 'CC'), ('limited', 'VBN'), ('by', 'IN'), ('the', 'DT'), ('transfer', 'NN'), ('of', 'IN'), ('data', 'NNS'), ('between', 'IN'), ('memory', 'NN'), ('and', 'CC'), ('processor', 'NN'), ('can', 'MD'), ('not', 'RB'), ('be', 'VB'), ('efficient5', 'RB'), ('.', '.')], [('The', 'DT'), ('more', 'RBR'), ('radical', 'JJ'), ('approach', 'NN'), ('of', 'IN'), ('neuromorphic', 'JJ'), ('computing', 'VBG'), ('seeks', 'NN'), ('to', 'TO'), ('overcome', 'VB'), ('the', 'DT'), ('limitations', 'NNS'), ('of', 'IN'), ('carrying', 'VBG'), ('out', 'RP'), ('brain-like', 'JJ'), ('processing', 'NN'), ('using', 'VBG'), ('conventional', 'JJ'), ('computers', 'NNS'), ('by', 'IN'), ('developing', 'VBG'), ('hardware', 'JJ'), ('mimics', 'NNS'), ('of', 'IN'), ('the', 'DT'), ('basic', 'JJ'), ('building', 'NN'), ('blocks', 'NNS'), ('of', 'IN'), ('biological', 'JJ'), ('brains—that', 'NN'), ('is', 'VBZ'), (',', ','), ('neurons', 'NNS'), ('and', 'CC'), ('synapses—and', 'VB'), ('combining', 'VBG'), ('these', 'DT'), ('into', 'IN'), ('suitably', 'RB'), ('scaled', 'VBN'), ('networks', 'NNS'), ('and', 'CC'), ('arrays', 'NNS'), ('.', '.')], [('Such', 'JJ'), ('an', 'DT'), ('approach', 'NN'), ('could', 'MD'), (',', ','), ('for', 'IN'), ('example', 'NN'), (',', ','), ('enable', 'VB'), ('the', 'DT'), ('efficient', 'JJ'), ('processing', 'NN'), ('and', 'CC'), ('analysis', 'NN'), ('of', 'IN'), ('data', 'NNS'), ('in', 'IN'), ('par-', 'JJ'), ('allel', 'NNS'), ('directly', 'RB'), ('on-chip', 'JJ'), (',', ','), ('thus', 'RB'), ('finding', 'VBG'), ('widespread', 'JJ'), ('utility', 'NN'), ('in', 'IN'), ('power-critical', 'JJ'), ('situations', 'NNS'), ('such', 'JJ'), ('as', 'IN'), ('for', 'IN'), ('mobile', 'JJ'), ('devices', 'NNS'), ('and', 'CC'), ('so-called', 'JJ'), ('‘', 'NNP'), ('edge', 'NN'), ('computing', 'VBG'), ('’', 'JJ'), ('applications6', 'NN'), ('.', '.')]], '4': [[('Recently', 'RB'), (',', ','), ('a', 'DT'), ('number', 'NN'), ('of', 'IN'), ('different', 'JJ'), ('concepts', 'NNS'), ('for', 'IN'), ('realizing', 'VBG'), ('hardware', 'NN'), ('(', '('), ('that', 'WDT'), ('is', 'VBZ'), (',', ','), ('neuromorphic', 'JJ'), (')', ')'), ('implementations', 'NNS'), ('for', 'IN'), ('artificial', 'JJ'), ('intelligence', 'NN'), ('have', 'VBP'), ('been', 'VBN'), ('proposed', 'VBN'), ('in', 'IN'), ('the', 'DT'), ('electrical', 'JJ'), ('domain7,8', 'NN'), ('but', 'CC'), ('optical', 'JJ'), ('approaches', 'NNS'), ('are', 'VBP'), ('very', 'RB'), ('much', 'RB'), ('in', 'IN'), ('their', 'PRP$'), ('infancy9–13', 'NN'), ('.', '.')], [('However', 'RB'), (',', ','), ('a', 'DT'), ('very', 'RB'), ('promising', 'JJ'), ('approach', 'NN'), ('for', 'IN'), ('photonic', 'JJ'), ('neuromorphic', 'JJ'), ('computing', 'NN'), ('is', 'VBZ'), ('based', 'VBN'), ('around', 'IN'), ('phase-change', 'JJ'), ('materials', 'NNS'), ('(', '('), ('PCMs', 'NNP'), (')', ')'), ('and', 'CC'), ('devices', 'NNS'), (',', ','), ('because', 'IN'), ('these', 'DT'), ('have', 'VBP'), ('been', 'VBN'), ('shown', 'VBN'), ('to', 'TO'), ('exhibit', 'VB'), ('an', 'DT'), ('intrinsic', 'JJ'), ('ability', 'NN'), ('to', 'TO'), ('provide', 'VB'), ('in', 'IN'), ('hardware', 'NN'), ('the', 'DT'), ('basic', 'JJ'), ('integrate-', 'JJ'), ('and-fire', 'JJ'), ('functionality', 'NN'), ('of', 'IN'), ('neurons', 'NNS'), ('and', 'CC'), ('the', 'DT'), ('plastic', 'JJ'), ('weighting', 'NN'), ('operation', 'NN'), ('of', 'IN'), ('synapses14–18', 'NN'), ('.', '.')], [('A', 'DT'), ('fully', 'RB'), ('optical', 'JJ'), (',', ','), ('integrated', 'VBN'), ('and', 'CC'), ('scalable', 'JJ'), ('neuromorphic', 'JJ'), ('framework', 'NN'), ('for', 'IN'), ('implementing', 'VBG'), ('spiking', 'VBG'), ('neural', 'JJ'), ('networks', 'NNS'), ('using', 'VBG'), ('PCMs', 'NNP'), ('has—to', 'VBD'), ('the', 'DT'), ('best', 'JJS'), ('of', 'IN'), ('our', 'PRP$'), ('knowledge—not', 'NN'), ('yet', 'RB'), ('been', 'VBN'), ('demonstrated', 'VBN'), ('.', '.')]], '5': [[('Here', 'RB'), ('we', 'PRP'), ('propose', 'VBP'), ('and', 'CC'), ('fabricate', 'VBP'), ('an', 'DT'), ('all-optical', 'JJ'), ('spiking', 'NN'), ('neuron', 'NN'), ('circuit', 'NN'), (',', ','), ('with', 'IN'), ('integrated', 'JJ'), ('all-optical', 'JJ'), ('synapses', 'NNS'), (',', ','), ('and', 'CC'), ('demonstrate', 'VB'), ('that', 'DT'), ('such', 'PDT'), ('a', 'DT'), ('system', 'NN'), ('is', 'VBZ'), ('capable', 'JJ'), ('of', 'IN'), ('the', 'DT'), ('prototypical', 'JJ'), ('artificial', 'JJ'), ('intelligence', 'NN'), ('task', 'NN'), ('of', 'IN'), ('pattern', 'JJ'), ('recog-', 'JJ'), ('nition', 'NN'), ('.', '.')], [('Moreover', 'RB'), (',', ','), ('training', 'NN'), ('and', 'CC'), ('learning', 'NN'), ('in', 'IN'), ('the', 'DT'), ('system', 'NN'), ('is', 'VBZ'), ('implemented', 'VBN'), ('in', 'IN'), ('both', 'DT'), ('a', 'DT'), ('supervised', 'VBN'), ('and', 'CC'), ('an', 'DT'), ('unsupervised', 'JJ'), ('way', 'NN'), (',', ','), ('both', 'DT'), ('cases', 'NNS'), ('having', 'VBG'), ('a', 'DT'), ('wide', 'JJ'), ('range', 'NN'), ('of', 'IN'), ('applications', 'NNS'), ('but', 'CC'), ('relying', 'VBG'), ('on', 'IN'), ('different', 'JJ'), ('learning', 'NN'), ('rules', 'NNS'), ('.', '.')], [('In', 'IN'), ('the', 'DT'), ('first', 'JJ'), ('case', 'NN'), (',', ','), ('where', 'WRB'), ('training', 'VBG'), ('sets', 'NNS'), ('with', 'IN'), ('pairs', 'NNS'), ('of', 'IN'), ('known', 'VBN'), ('inputs', 'NNS'), ('and', 'CC'), ('outputs', 'NNS'), ('are', 'VBP'), ('present', 'JJ'), (',', ','), ('supervised', 'VBD'), ('learning', 'NN'), ('rules', 'NNS'), ('can', 'MD'), ('be', 'VB'), ('applied', 'VBN'), (',', ','), ('such', 'JJ'), ('as', 'IN'), ('the', 'DT'), ('well-known', 'JJ'), ('backpropagation', 'NN'), ('algorithm19,20', 'NN'), ('.', '.')], [('The', 'DT'), ('second', 'JJ'), ('case', 'NN'), ('requires', 'VBZ'), ('unsupervised', 'JJ'), ('learning', 'NN'), (',', ','), ('meaning', 'VBG'), ('that', 'IN'), ('the', 'DT'), ('network', 'NN'), ('adapts', 'NNS'), ('on', 'IN'), ('its', 'PRP$'), ('own', 'JJ'), ('to', 'TO'), ('specific', 'JJ'), ('repeat-', 'JJ'), ('ing', 'NN'), ('features', 'NNS'), ('and', 'CC'), ('patterns', 'NNS'), ('that', 'WDT'), ('are', 'VBP'), ('unknown', 'JJ'), ('beforehand21', 'NN'), ('.', '.')]], '6': [[('We', 'PRP'), ('devise', 'VBP'), ('a', 'DT'), ('scalable', 'JJ'), (',', ','), ('layered', 'JJ'), ('architecture', 'NN'), (',', ','), ('based', 'VBN'), ('on', 'IN'), ('wavelength', 'JJ'), ('division', 'NN'), ('multiplexing', 'NN'), ('(', '('), ('WDM', 'NNP'), (')', ')'), (',', ','), ('to', 'TO'), ('realize', 'VB'), ('such', 'JJ'), ('a', 'DT'), ('complex', 'JJ'), ('integrated', 'VBN'), ('photonic', 'JJ'), ('system', 'NN'), (',', ','), ('presenting', 'VBG'), ('a', 'DT'), ('photonic', 'JJ'), ('neural', 'JJ'), ('network', 'NN'), ('consisting', 'VBG'), ('of', 'IN'), ('four', 'CD'), ('neurons', 'NNS'), ('and', 'CC'), ('sixty', 'NN'), ('synapses', 'NNS'), ('(', '('), ('and', 'CC'), ('140', 'CD'), ('optical', 'JJ'), ('elements', 'NNS'), ('in', 'IN'), ('total', 'NN'), (')', ')'), ('that', 'WDT'), ('is', 'VBZ'), ('able', 'JJ'), ('to', 'TO'), ('successfully', 'RB'), ('recognize', 'VB'), ('letters', 'NNS'), ('presented', 'VBN'), ('to', 'TO'), ('it', 'PRP'), ('.', '.')], [('By', 'IN'), ('implementing', 'VBG'), ('an', 'DT'), ('all-optical', 'JJ'), ('spiking', 'NN'), ('neural', 'JJ'), ('network', 'NN'), ('on', 'IN'), ('a', 'DT'), ('nanophotonic', 'JJ'), ('chip', 'NN'), (',', ','), ('we', 'PRP'), ('pro-', 'VBP'), ('vide', 'IN'), ('a', 'DT'), ('step', 'NN'), ('towards', 'RB'), ('optical', 'JJ'), ('neuromorphic', 'JJ'), ('systems', 'NNS'), (',', ','), ('which', 'WDT'), ('will', 'MD'), ('benefit', 'VB'), ('from', 'IN'), ('the', 'DT'), ('high', 'JJ'), ('bandwidth', 'NN'), ('and', 'CC'), ('fast', 'RB'), ('signalling', 'VBG'), ('properties', 'NNS'), ('that', 'IN'), ('come', 'VBP'), ('with', 'IN'), ('operating', 'NN'), ('fully', 'RB'), ('in', 'IN'), ('the', 'DT'), ('optical', 'JJ'), ('domain22,23', 'NN'), ('.', '.')]], '7h': [[('Photonic', 'JJ'), ('implementation', 'NN'), ('of', 'IN'), ('an', 'DT'), ('artificial', 'JJ'), ('neuron', 'NN')]], '8': [[('A', 'DT'), ('sketch', 'NN'), ('of', 'IN'), ('our', 'PRP$'), ('optical', 'JJ'), ('spiking', 'NN'), ('neuron', 'NN'), ('circuit', 'NN'), (',', ','), ('also', 'RB'), ('incorporating', 'VBG'), ('all-optical', 'JJ'), ('synapses', 'NNS'), (',', ','), ('showing', 'VBG'), ('how', 'WRB'), ('it', 'PRP'), ('is', 'VBZ'), ('integrated', 'VBN'), ('onto', 'IN'), ('a', 'DT'), ('nanophotonic', 'JJ'), ('platform', 'NN'), (',', ','), ('is', 'VBZ'), ('shown', 'VBN'), ('in', 'IN'), ('Fig', 'NNP'), ('.', '.')], [('1a', 'CD'), (',', ','), ('b', 'NN'), ('.', '.')], [('The', 'DT'), ('neuron', 'NN'), ('represents', 'VBZ'), ('a', 'DT'), ('system', 'NN'), ('com-', 'JJ'), ('prising', 'NN'), ('N', 'NNP'), ('input', 'NN'), ('(', '('), ('pre-synaptic', 'JJ'), (')', ')'), ('neurons', 'NNS'), (',', ','), ('one', 'CD'), ('output', 'NN'), ('(', '('), ('post-synaptic', 'JJ'), (')', ')'), ('neuron', 'NN'), ('and', 'CC'), ('N', 'NNP'), ('interconnecting', 'NN'), ('synapses', 'NNS'), ('.', '.')], [('Each', 'DT'), ('connection', 'NN'), ('between', 'IN'), ('the', 'DT'), ('pre-synaptic', 'JJ'), ('neurons', 'NNS'), ('and', 'CC'), ('the', 'DT'), ('post-synaptic', 'JJ'), ('neuron', 'NN'), ('has', 'VBZ'), ('a', 'DT'), ('certain', 'JJ'), ('weight', 'NN'), ('wi', 'NN'), ('.', '.')], [('In', 'IN'), ('the', 'DT'), ('configuration', 'NN'), ('of', 'IN'), ('Fig', 'NNP'), ('.', '.')], [('1a', 'CD'), (',', ','), ('optical', 'JJ'), ('pulses', 'NNS'), ('from', 'IN'), ('the', 'DT'), ('pre-synaptic', 'JJ'), ('neurons', 'NNS'), ('are', 'VBP'), ('fed', 'VBN'), ('from', 'IN'), ('the', 'DT'), ('left', 'NN'), ('into', 'IN'), ('the', 'DT'), ('connecting', 'NN'), ('synapses', 'NNS'), (',', ','), ('and', 'CC'), ('thence', 'NN'), ('to', 'TO'), ('the', 'DT'), ('post-synaptic', 'JJ'), ('neuron', 'NN'), ('itself', 'PRP'), ('.', '.')], [('The', 'DT'), ('synapses', 'NNS'), ('are', 'VBP'), ('built', 'VBN'), ('of', 'IN'), ('optical', 'JJ'), ('waveguides', 'NNS'), ('(', '('), ('see', 'VB'), ('Fig', 'NNP'), ('.', '.')], [('1b', 'CD'), (')', ')'), ('and', 'CC'), ('weighting', 'VBG'), ('is', 'VBZ'), ('achieved', 'VBN'), ('via', 'IN'), ('PCM', 'NNP'), ('cells', 'NNS'), ('(', '('), ('here', 'RB'), ('cells', 'NNS'), ('have', 'VBP'), ('an', 'DT'), ('area', 'NN'), ('of', 'IN'), ('3.6', 'CD'), ('µm2', 'NNS'), ('and', 'CC'), ('are', 'VBP'), ('shown', 'VBN'), ('as', 'IN'), ('red', 'JJ'), ('squares', 'NNS'), (')', ')'), ('integrated', 'VBN'), ('on', 'IN'), ('top', 'NN'), ('of', 'IN'), ('the', 'DT'), ('waveguides', 'NNS'), (',', ','), ('which', 'WDT'), ('can', 'MD'), ('modify', 'VB'), ('the', 'DT'), ('propagating', 'NN'), ('optical', 'JJ')]]}\n",
      "8\n"
     ]
    }
   ],
   "source": [
    "print(tokenaise_text[0])\n",
    "print(len(tokenaise_text))"
   ]
  },
  {
   "cell_type": "markdown",
   "id": "2a1e4729",
   "metadata": {},
   "source": [
    "#### Экспорт в html"
   ]
  },
  {
   "cell_type": "code",
   "execution_count": 49,
   "id": "30e88e1f",
   "metadata": {},
   "outputs": [
    {
     "name": "stdout",
     "output_type": "stream",
     "text": [
      "10.1038@s41586-019-1157-8 - markup\n",
      "/home/nik/Work/AVT/Аспирантура/Английский/Translate Helper\n"
     ]
    }
   ],
   "source": [
    "print(file_name)\n",
    "print(file_dir_path)"
   ]
  },
  {
   "cell_type": "code",
   "execution_count": 107,
   "id": "412f6ffe",
   "metadata": {},
   "outputs": [],
   "source": [
    "class Tag():\n",
    "    def __init__(self, file, open_tag, close_tag = None):\n",
    "        self.file = file\n",
    "        self.open_tag = open_tag\n",
    "        self.close_tag = close_tag\n",
    "        if close_tag is None:\n",
    "            self.close_tag = f'</{self.open_tag[1:]}'\n",
    "        \n",
    "    def __enter__(self):\n",
    "        self.file.write(self.open_tag)\n",
    "\n",
    "    def __exit__(self, type, value, traceback):\n",
    "        self.file.write(self.close_tag)\n",
    "\n",
    "colors = {'f': '#fffcde'}        \n",
    "\n",
    "with open(f'{file_dir_path}/{file_name}.html', 'w') as f:\n",
    "    with Tag(f,'<article>\\n') as tart:\n",
    "        for pi,page in enumerate(tokenaise_text):\n",
    "            f.write(f'<h4>[--- Page {pi} ---]</h3>\\n')\n",
    "            keys = sorted(page.keys())\n",
    "            tag = ''\n",
    "            close_tag = None\n",
    "            for k in keys:\n",
    "                tag = '<p>'\n",
    "                if k[-1] == 'h':\n",
    "                    tag = '<h3>'\n",
    "                elif k[0] == 'f':\n",
    "                    tag = f'<p  style=\"background-color: {colors[\"f\"]}\">'\n",
    "                    close_tag = '</p>'\n",
    "                    \n",
    "                with Tag(f, tag, close_tag) as tparagraff:\n",
    "                    first_word = True\n",
    "                    for sentence in page[k]:\n",
    "                        for word in sentence:\n",
    "                            word_tag = word[1]\n",
    "                            if word_tag != '.' and word_tag != ',':\n",
    "                                first_word = False\n",
    "                                f.write(' ')\n",
    "                            f.write(word[0])\n",
    "                            \n"
   ]
  },
  {
   "cell_type": "code",
   "execution_count": null,
   "id": "af4bf15a",
   "metadata": {},
   "outputs": [],
   "source": []
  }
 ],
 "metadata": {
  "kernelspec": {
   "display_name": "Python 3 (ipykernel)",
   "language": "python",
   "name": "python3"
  },
  "language_info": {
   "codemirror_mode": {
    "name": "ipython",
    "version": 3
   },
   "file_extension": ".py",
   "mimetype": "text/x-python",
   "name": "python",
   "nbconvert_exporter": "python",
   "pygments_lexer": "ipython3",
   "version": "3.11.8"
  }
 },
 "nbformat": 4,
 "nbformat_minor": 5
}
